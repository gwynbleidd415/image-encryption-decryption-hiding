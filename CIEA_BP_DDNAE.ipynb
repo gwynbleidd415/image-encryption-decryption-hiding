{
 "metadata": {
  "language_info": {
   "codemirror_mode": {
    "name": "ipython",
    "version": 3
   },
   "file_extension": ".py",
   "mimetype": "text/x-python",
   "name": "python",
   "nbconvert_exporter": "python",
   "pygments_lexer": "ipython3",
   "version": "3.9.1-final"
  },
  "orig_nbformat": 2,
  "kernelspec": {
   "name": "pyenv",
   "display_name": "pyenv",
   "language": "python"
  }
 },
 "nbformat": 4,
 "nbformat_minor": 2,
 "cells": [
  {
   "cell_type": "code",
   "execution_count": 1,
   "metadata": {},
   "outputs": [],
   "source": [
    "%matplotlib inline"
   ]
  },
  {
   "cell_type": "code",
   "execution_count": 2,
   "metadata": {},
   "outputs": [],
   "source": [
    "import numpy as np\n",
    "import matplotlib.pyplot as plt\n",
    "import cv2"
   ]
  },
  {
   "cell_type": "code",
   "execution_count": 3,
   "metadata": {},
   "outputs": [],
   "source": [
    "# def showImage(img,title = None):\n",
    "#     plt.figure(figsize = (8,8))\n",
    "#     plt.title(title)\n",
    "#     plt.yticks([])\n",
    "#     plt.xticks([])\n",
    "#     plt.imshow(cv2.cvtColor(img, cv2.COLOR_BGR2RGB))\n",
    "\n",
    "def showImage(img, title=None):\n",
    "    plt.figure(figsize=(8,7))\n",
    "    plt.title(title)\n",
    "    plt.yticks([])\n",
    "    plt.xticks([])\n",
    "    plt.imshow(img,'gray')"
   ]
  },
  {
   "cell_type": "code",
   "execution_count": 4,
   "metadata": {},
   "outputs": [],
   "source": [
    "# The Input Image\n",
    "\n",
    "img = cv2.imread('lcimage.png',0)"
   ]
  },
  {
   "cell_type": "code",
   "execution_count": 5,
   "metadata": {},
   "outputs": [],
   "source": [
    "# class butterflyPermutation:\n",
    "#     class circle:\n",
    "#         def __init__(self):\n",
    "#             self.val = None\n",
    "#             self.ptr = None\n",
    "#         def setPointer(self, ptr):\n",
    "#             self.ptr = ptr\n",
    "    \n",
    "#     class octagon:\n",
    "#         def __init__(self, cont):\n",
    "#             self.val = None\n",
    "#             self.ptr = None\n",
    "#             self.cont = cont\n",
    "#         def setPointer(self, ptr):\n",
    "#             self.ptr = ptr\n",
    "\n",
    "\n",
    "#     def __init__(self, num):\n",
    "#         self.matrix = []\n",
    "        "
   ]
  },
  {
   "cell_type": "code",
   "execution_count": 48,
   "metadata": {},
   "outputs": [],
   "source": [
    "class butterflyPermutation:\n",
    "    def __init__(self):\n",
    "        self.matrix = [[0 for j in range(8)] for i in range(4)]\n",
    "    def _xnor(self,a,b):\n",
    "        return np.bitwise_or(np.bitwise_and(a,b),np.bitwise_and(np.bitwise_not(a),np.bitwise_not(b)))\n",
    "    def permute(self, b, c):\n",
    "        self.matrix[0] = list(reversed([i=='1' for i in np.binary_repr(b,8)]))\n",
    "        vectc = [i=='1' for i in np.binary_repr(c,8)]\n",
    "        vectc.reverse()\n",
    "        vectc.extend([self._xnor(vectc[0],vectc[4]),self._xnor(vectc[1],vectc[5]),self._xnor(vectc[2],vectc[6]),self._xnor(vectc[3],vectc[7])])\n",
    "        for i in range(3):\n",
    "            xx = 2**(2-i)\n",
    "            xxx = xx*2\n",
    "            for j in range(8):\n",
    "                ci = 4*i+j%xx+xx*(j//xxx)\n",
    "                mj = (j+vectc[ci]*xx)%(xx*2)+(j//xxx)*xxx\n",
    "                # print(f'ci = {ci} \\t mj = {mj}')\n",
    "                self.matrix[i+1][mj]=self.matrix[i][j]\n",
    "        return self.matrix[3]@(2**np.arange(8))"
   ]
  }
 ]
}